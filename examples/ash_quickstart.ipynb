{
 "cells": [
  {
   "cell_type": "code",
   "execution_count": 35,
   "id": "ab622412-ce2d-4c6c-9725-d977c197ece6",
   "metadata": {
    "tags": []
   },
   "outputs": [],
   "source": [
    "from pymafia import *"
   ]
  },
  {
   "cell_type": "markdown",
   "id": "f7409d7e",
   "metadata": {},
   "source": [
    "# Special Types"
   ]
  },
  {
   "cell_type": "code",
   "execution_count": 36,
   "id": "6b72ee51-2eb0-406f-88d7-6fb7cf807b63",
   "metadata": {},
   "outputs": [
    {
     "data": {
      "text/plain": [
       "Location('Barf Mountain')"
      ]
     },
     "execution_count": 36,
     "metadata": {},
     "output_type": "execute_result"
    }
   ],
   "source": [
    "# all ASH special data types have been implemented as python classes, which can be instantiated from their name, id, or string representation\n",
    "Location('Barf Mountain')"
   ]
  },
  {
   "cell_type": "code",
   "execution_count": 37,
   "id": "ec907cc6",
   "metadata": {},
   "outputs": [
    {
     "data": {
      "text/plain": [
       "Monster('[1760]garbage tourist')"
      ]
     },
     "execution_count": 37,
     "metadata": {},
     "output_type": "execute_result"
    }
   ],
   "source": [
    "Monster(1760)"
   ]
  },
  {
   "cell_type": "code",
   "execution_count": 38,
   "id": "bd605e06",
   "metadata": {},
   "outputs": [
    {
     "data": {
      "text/plain": [
       "Vykea('level 5 couch')"
      ]
     },
     "execution_count": 38,
     "metadata": {},
     "output_type": "execute_result"
    }
   ],
   "source": [
    "Vykea('level 5 couch')"
   ]
  },
  {
   "cell_type": "code",
   "execution_count": 39,
   "id": "9134a010",
   "metadata": {},
   "outputs": [
    {
     "data": {
      "text/plain": [
       "[Item('[1]seal-clubbing club'),\n",
       " Item('[2]seal tooth'),\n",
       " Item('[3]helmet turtle'),\n",
       " Item('[4]turtle totem'),\n",
       " Item('[5]pasta spoon'),\n",
       " Item('[6]ravioli hat'),\n",
       " Item('[7]saucepan'),\n",
       " Item('[8]spices'),\n",
       " Item('[9]disco mask'),\n",
       " Item('[10]disco ball')]"
      ]
     },
     "execution_count": 39,
     "metadata": {},
     "output_type": "execute_result"
    }
   ],
   "source": [
    "# each special type has an all() class method that returns every instance of the type according to mafia\n",
    "Item.all()[:10]"
   ]
  },
  {
   "cell_type": "code",
   "execution_count": 40,
   "id": "c99c7bb4",
   "metadata": {},
   "outputs": [
    {
     "data": {
      "text/plain": [
       "['Item',\n",
       " 'Location',\n",
       " 'Class',\n",
       " 'Stat',\n",
       " 'Skill',\n",
       " 'Effect',\n",
       " 'Familiar',\n",
       " 'Slot',\n",
       " 'Monster',\n",
       " 'Element',\n",
       " 'Coinmaster',\n",
       " 'Phylum',\n",
       " 'Thrall',\n",
       " 'Bounty',\n",
       " 'Servant',\n",
       " 'Vykea']"
      ]
     },
     "execution_count": 40,
     "metadata": {},
     "output_type": "execute_result"
    }
   ],
   "source": [
    "# a list of special data types can be found be inspecting the types submodule or the mafia wiki: https://wiki.kolmafia.us/index.php/Data_Types#Special_Datatypes\n",
    "pymafia.types.__all__"
   ]
  },
  {
   "cell_type": "markdown",
   "id": "de997365",
   "metadata": {},
   "source": [
    "# ASH Functions"
   ]
  },
  {
   "cell_type": "code",
   "execution_count": 41,
   "id": "cfd81400",
   "metadata": {},
   "outputs": [
    {
     "data": {
      "text/plain": [
       "'Starch 8'"
      ]
     },
     "execution_count": 41,
     "metadata": {},
     "output_type": "execute_result"
    }
   ],
   "source": [
    "# any ASH function can be called by referencing the ash submodule and passing the proper arguments\n",
    "ash.gameday_to_string()"
   ]
  },
  {
   "cell_type": "code",
   "execution_count": 42,
   "id": "fc0a40d0",
   "metadata": {},
   "outputs": [
    {
     "data": {
      "text/plain": [
       "1"
      ]
     },
     "execution_count": 42,
     "metadata": {},
     "output_type": "execute_result"
    }
   ],
   "source": [
    "# function arguments are automatically converted to their java representation\n",
    "ash.to_int(1.2)"
   ]
  },
  {
   "cell_type": "code",
   "execution_count": 43,
   "id": "9f7b5c99",
   "metadata": {},
   "outputs": [
    {
     "data": {
      "text/plain": [
       "2"
      ]
     },
     "execution_count": 43,
     "metadata": {},
     "output_type": "execute_result"
    }
   ],
   "source": [
    "# maps are represented by dictionaries\n",
    "ash.count({Item(\"seal-clubbing club\"): 3, Item(\"turtle totem\"): 5})"
   ]
  },
  {
   "cell_type": "code",
   "execution_count": 44,
   "id": "aae0c9aa",
   "metadata": {},
   "outputs": [
    {
     "data": {
      "text/plain": [
       "3"
      ]
     },
     "execution_count": 44,
     "metadata": {},
     "output_type": "execute_result"
    }
   ],
   "source": [
    "# arrays are represented by lists\n",
    "ash.count([Slot.HAT, Slot.ACC1, Slot.ACC2])"
   ]
  },
  {
   "cell_type": "code",
   "execution_count": 45,
   "id": "64b874c0",
   "metadata": {},
   "outputs": [
    {
     "data": {
      "text/plain": [
       "Effect('[1]Light!')"
      ]
     },
     "execution_count": 45,
     "metadata": {},
     "output_type": "execute_result"
    }
   ],
   "source": [
    "# by default the returned java object will be parsed into its python equivalent\n",
    "ash.to_effect(1)"
   ]
  },
  {
   "cell_type": "code",
   "execution_count": 46,
   "id": "2152f662",
   "metadata": {},
   "outputs": [
    {
     "data": {
      "text/plain": [
       "{Monster('none'): 0.0,\n",
       " Monster('[1758]angry tourist'): 33.333333333333336,\n",
       " Monster('[1759]horrible tourist family'): 33.333333333333336,\n",
       " Monster('[1760]garbage tourist'): 33.333333333333336}"
      ]
     },
     "execution_count": 46,
     "metadata": {},
     "output_type": "execute_result"
    }
   ],
   "source": [
    "ash.appearance_rates(Location(\"Barf Mountain\"))"
   ]
  },
  {
   "cell_type": "code",
   "execution_count": 47,
   "id": "6e8e0dfb",
   "metadata": {},
   "outputs": [
    {
     "data": {
      "text/plain": [
       "<net.sourceforge.kolmafia.textui.parsetree.Value at 0x1d7463a6db0 jclass=net/sourceforge/kolmafia/textui/parsetree/Value jself=<LocalRef obj=0x246c67e8 at 0x1d7422ce750>>"
      ]
     },
     "execution_count": 47,
     "metadata": {},
     "output_type": "execute_result"
    }
   ],
   "source": [
    "# the java object can be returned by setting the raw=True\n",
    "ash.to_effect(1, raw=True) "
   ]
  },
  {
   "cell_type": "code",
   "execution_count": 48,
   "id": "d159e354",
   "metadata": {},
   "outputs": [
    {
     "data": {
      "text/plain": [
       "['boolean use(item)', 'boolean use(item, int)', 'boolean use(int, item)']"
      ]
     },
     "execution_count": 48,
     "metadata": {},
     "output_type": "execute_result"
    }
   ],
   "source": [
    "# the .wiki and .signatures properties provide more information on an ASH function\n",
    "ash.use.signatures"
   ]
  },
  {
   "cell_type": "code",
   "execution_count": 49,
   "id": "66a2b44b",
   "metadata": {},
   "outputs": [
    {
     "data": {
      "text/plain": [
       "'https://wiki.kolmafia.us/index.php/use'"
      ]
     },
     "execution_count": 49,
     "metadata": {},
     "output_type": "execute_result"
    }
   ],
   "source": [
    "ash.use.wiki"
   ]
  },
  {
   "cell_type": "code",
   "execution_count": 50,
   "id": "e451bdcb",
   "metadata": {},
   "outputs": [
    {
     "data": {
      "text/plain": [
       "['adv1', 'adv_cost', 'adventure', 'my_adventures', 'my_session_adv']"
      ]
     },
     "execution_count": 50,
     "metadata": {},
     "output_type": "execute_result"
    }
   ],
   "source": [
    "# ashref will return a list of all ASH functions containing the specified string\n",
    "ash.ashref('adv')"
   ]
  },
  {
   "cell_type": "code",
   "execution_count": 51,
   "id": "f3a826e4-9848-49dd-84af-c0547a33d1bb",
   "metadata": {},
   "outputs": [
    {
     "data": {
      "text/plain": [
       "6"
      ]
     },
     "execution_count": 51,
     "metadata": {},
     "output_type": "execute_result"
    }
   ],
   "source": [
    "# ASH scripts can be executed using the script attribute\n",
    "# similar to the ash functions, the return value of scripts will be parsed unless raw=True\n",
    "ash.script(\n",
    "    \"\"\"\n",
    "    int add_one(int x) {\n",
    "        return x + 1;\n",
    "    }\n",
    "    add_one(5)\n",
    "    \"\"\"\n",
    ")"
   ]
  }
 ],
 "metadata": {
  "interpreter": {
   "hash": "0b1aabbc21df1da33a660539b2890462046ca5b1b037de78cb8d1968d9f62175"
  },
  "kernelspec": {
   "display_name": "Python 3.8.10 64-bit",
   "name": "python3"
  },
  "language_info": {
   "codemirror_mode": {
    "name": "ipython",
    "version": 3
   },
   "file_extension": ".py",
   "mimetype": "text/x-python",
   "name": "python",
   "nbconvert_exporter": "python",
   "pygments_lexer": "ipython3",
   "version": "3.8.12"
  }
 },
 "nbformat": 4,
 "nbformat_minor": 5
}
