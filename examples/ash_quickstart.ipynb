{
 "cells": [
  {
   "cell_type": "code",
   "execution_count": 2,
   "id": "ab622412-ce2d-4c6c-9725-d977c197ece6",
   "metadata": {
    "tags": []
   },
   "outputs": [],
   "source": [
    "from pymafia import *"
   ]
  },
  {
   "cell_type": "markdown",
   "id": "f7409d7e",
   "metadata": {},
   "source": [
    "# Special Types"
   ]
  },
  {
   "cell_type": "code",
   "execution_count": 3,
   "id": "6b72ee51-2eb0-406f-88d7-6fb7cf807b63",
   "metadata": {},
   "outputs": [
    {
     "data": {
      "text/plain": [
       "Location('Barf Mountain')"
      ]
     },
     "execution_count": 3,
     "metadata": {},
     "output_type": "execute_result"
    }
   ],
   "source": [
    "# All ASH special datatypes have been implemented as python classes, which can be instantiated from their name, id, or string representation\n",
    "# A list of special datatypes can be found be inspecting the types submodule or the mafia wiki: https://wiki.kolmafia.us/index.php/Data_Types#Special_Datatypes\n",
    "Location(\"Barf Mountain\")"
   ]
  },
  {
   "cell_type": "code",
   "execution_count": 4,
   "id": "ec907cc6",
   "metadata": {},
   "outputs": [
    {
     "data": {
      "text/plain": [
       "Monster('garbage tourist')"
      ]
     },
     "execution_count": 4,
     "metadata": {},
     "output_type": "execute_result"
    }
   ],
   "source": [
    "Monster(1760)"
   ]
  },
  {
   "cell_type": "code",
   "execution_count": 5,
   "id": "bd605e06",
   "metadata": {},
   "outputs": [
    {
     "data": {
      "text/plain": [
       "Vykea('level 5 couch')"
      ]
     },
     "execution_count": 5,
     "metadata": {},
     "output_type": "execute_result"
    }
   ],
   "source": [
    "Vykea(\"level 5 couch\")"
   ]
  },
  {
   "cell_type": "code",
   "execution_count": 6,
   "id": "9134a010",
   "metadata": {},
   "outputs": [
    {
     "data": {
      "text/plain": [
       "[Item('seal-clubbing club'),\n",
       " Item('seal tooth'),\n",
       " Item('helmet turtle'),\n",
       " Item('turtle totem'),\n",
       " Item('pasta spoon'),\n",
       " Item('ravioli hat'),\n",
       " Item('saucepan'),\n",
       " Item('spices'),\n",
       " Item('disco mask'),\n",
       " Item('disco ball')]"
      ]
     },
     "execution_count": 6,
     "metadata": {},
     "output_type": "execute_result"
    }
   ],
   "source": [
    "# Each special datatype has an all() class method that returns every instance of the type according to mafia\n",
    "Item.all()[:10]"
   ]
  },
  {
   "cell_type": "code",
   "execution_count": 21,
   "id": "829ec1b6",
   "metadata": {},
   "outputs": [
    {
     "data": {
      "text/plain": [
       "True"
      ]
     },
     "execution_count": 21,
     "metadata": {},
     "output_type": "execute_result"
    }
   ],
   "source": [
    "# A majority of proxy attributes for each of the special datatypes are available as class properties\n",
    "Coinmaster(\"The Dinsey Company Store\").sells"
   ]
  },
  {
   "cell_type": "markdown",
   "id": "de997365",
   "metadata": {},
   "source": [
    "# ASH Functions"
   ]
  },
  {
   "cell_type": "code",
   "execution_count": 8,
   "id": "cfd81400",
   "metadata": {},
   "outputs": [
    {
     "data": {
      "text/plain": [
       "'Martinus 6'"
      ]
     },
     "execution_count": 8,
     "metadata": {},
     "output_type": "execute_result"
    }
   ],
   "source": [
    "# Any ASH function can be called by referencing the ash submodule and passing the proper arguments\n",
    "ash.gameday_to_string()"
   ]
  },
  {
   "cell_type": "code",
   "execution_count": 9,
   "id": "fc0a40d0",
   "metadata": {},
   "outputs": [
    {
     "data": {
      "text/plain": [
       "1"
      ]
     },
     "execution_count": 9,
     "metadata": {},
     "output_type": "execute_result"
    }
   ],
   "source": [
    "# Function arguments are automatically converted to their java representation\n",
    "ash.to_int(1.2)"
   ]
  },
  {
   "cell_type": "code",
   "execution_count": 10,
   "id": "9f7b5c99",
   "metadata": {},
   "outputs": [
    {
     "data": {
      "text/plain": [
       "2"
      ]
     },
     "execution_count": 10,
     "metadata": {},
     "output_type": "execute_result"
    }
   ],
   "source": [
    "# Maps are represented by dictionaries\n",
    "ash.count({1: \"one\", 2: \"two\"})"
   ]
  },
  {
   "cell_type": "code",
   "execution_count": 11,
   "id": "aae0c9aa",
   "metadata": {},
   "outputs": [
    {
     "data": {
      "text/plain": [
       "3"
      ]
     },
     "execution_count": 11,
     "metadata": {},
     "output_type": "execute_result"
    }
   ],
   "source": [
    "# Arrays are represented by lists\n",
    "ash.count([Slot.HAT, Slot.ACC1, Slot.ACC2])"
   ]
  },
  {
   "cell_type": "code",
   "execution_count": 12,
   "id": "64b874c0",
   "metadata": {},
   "outputs": [
    {
     "data": {
      "text/plain": [
       "Effect('Light!')"
      ]
     },
     "execution_count": 12,
     "metadata": {},
     "output_type": "execute_result"
    }
   ],
   "source": [
    "# By default, the returned java object will be parsed into its python equivalent\n",
    "ash.to_effect(1)"
   ]
  },
  {
   "cell_type": "code",
   "execution_count": 13,
   "id": "2152f662",
   "metadata": {},
   "outputs": [
    {
     "data": {
      "text/plain": [
       "{Monster('none'): 0.0,\n",
       " Monster('angry tourist'): 33.333333333333336,\n",
       " Monster('horrible tourist family'): 33.333333333333336,\n",
       " Monster('garbage tourist'): 33.333333333333336}"
      ]
     },
     "execution_count": 13,
     "metadata": {},
     "output_type": "execute_result"
    }
   ],
   "source": [
    "ash.appearance_rates(Location(\"Barf Mountain\"))"
   ]
  },
  {
   "cell_type": "code",
   "execution_count": 14,
   "id": "6e8e0dfb",
   "metadata": {},
   "outputs": [
    {
     "data": {
      "text/plain": [
       "<net.sourceforge.kolmafia.textui.parsetree.Value at 0x2762fd15220 jclass=net/sourceforge/kolmafia/textui/parsetree/Value jself=<LocalRef obj=0x2cf8fae0 at 0x2762ae87d90>>"
      ]
     },
     "execution_count": 14,
     "metadata": {},
     "output_type": "execute_result"
    }
   ],
   "source": [
    "# The java object can be returned by setting the raw=True\n",
    "ash.to_effect(1, raw=True) "
   ]
  },
  {
   "cell_type": "code",
   "execution_count": 15,
   "id": "d159e354",
   "metadata": {},
   "outputs": [
    {
     "data": {
      "text/plain": [
       "['boolean use(item)', 'boolean use(item, int)', 'boolean use(int, item)']"
      ]
     },
     "execution_count": 15,
     "metadata": {},
     "output_type": "execute_result"
    }
   ],
   "source": [
    "# The .wiki and .signatures properties provide more information on an ASH function\n",
    "ash.use.signatures"
   ]
  },
  {
   "cell_type": "code",
   "execution_count": 16,
   "id": "66a2b44b",
   "metadata": {},
   "outputs": [
    {
     "data": {
      "text/plain": [
       "'https://wiki.kolmafia.us/index.php/use'"
      ]
     },
     "execution_count": 16,
     "metadata": {},
     "output_type": "execute_result"
    }
   ],
   "source": [
    "ash.use.wiki"
   ]
  },
  {
   "cell_type": "code",
   "execution_count": 17,
   "id": "e451bdcb",
   "metadata": {},
   "outputs": [
    {
     "data": {
      "text/plain": [
       "['adv1', 'adv_cost', 'adventure', 'my_adventures', 'my_session_adv']"
      ]
     },
     "execution_count": 17,
     "metadata": {},
     "output_type": "execute_result"
    }
   ],
   "source": [
    "# ashref will return a list of all ASH functions containing the specified string\n",
    "ash.ashref(\"adv\")"
   ]
  },
  {
   "cell_type": "code",
   "execution_count": 18,
   "id": "f3a826e4-9848-49dd-84af-c0547a33d1bb",
   "metadata": {},
   "outputs": [
    {
     "data": {
      "text/plain": [
       "6"
      ]
     },
     "execution_count": 18,
     "metadata": {},
     "output_type": "execute_result"
    }
   ],
   "source": [
    "# ASH scripts can be executed using the script attribute\n",
    "# Similar to the ash functions, the return value of scripts will be parsed unless raw=True\n",
    "ash.script(\n",
    "    \"\"\"\n",
    "    int add_one(int x) {\n",
    "        return x + 1;\n",
    "    }\n",
    "    add_one(5)\n",
    "    \"\"\"\n",
    ")"
   ]
  }
 ],
 "metadata": {
  "interpreter": {
   "hash": "0b1aabbc21df1da33a660539b2890462046ca5b1b037de78cb8d1968d9f62175"
  },
  "kernelspec": {
   "display_name": "Python 3.8.10 64-bit",
   "name": "python3"
  },
  "language_info": {
   "codemirror_mode": {
    "name": "ipython",
    "version": 3
   },
   "file_extension": ".py",
   "mimetype": "text/x-python",
   "name": "python",
   "nbconvert_exporter": "python",
   "pygments_lexer": "ipython3",
   "version": "3.8.12"
  }
 },
 "nbformat": 4,
 "nbformat_minor": 5
}
